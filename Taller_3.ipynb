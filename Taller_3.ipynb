{
  "nbformat": 4,
  "nbformat_minor": 0,
  "metadata": {
    "colab": {
      "provenance": [],
      "authorship_tag": "ABX9TyPnOLRxI4yvQlKnG0jSiys6",
      "include_colab_link": true
    },
    "kernelspec": {
      "name": "python3",
      "display_name": "Python 3"
    },
    "language_info": {
      "name": "python"
    }
  },
  "cells": [
    {
      "cell_type": "markdown",
      "metadata": {
        "id": "view-in-github",
        "colab_type": "text"
      },
      "source": [
        "<a href=\"https://colab.research.google.com/github/Francistotorres/Prog_Alg_Taller_3./blob/main/Taller_3.ipynb\" target=\"_parent\"><img src=\"https://colab.research.google.com/assets/colab-badge.svg\" alt=\"Open In Colab\"/></a>"
      ]
    },
    {
      "cell_type": "markdown",
      "source": [
        "# Taller 3 – Sintaxis Básica de Python, Francisco Javier Torres Fuentes, gmail: francisco.torres@upb.edu.co, ID:000503915; Augsberto Montes Bedoya, gmail: augsberto.montes@upb.edu.co, ID:000502541\n",
        "\n",
        "\n",
        "\n"
      ],
      "metadata": {
        "id": "dwGpLbdT8u85"
      }
    },
    {
      "cell_type": "markdown",
      "source": [
        "# Problema 1:\n",
        "\n",
        "Calcular y mostrar la posición de una partícula que experimenta movimiento uniformemente\n",
        "acelerado a partir de su posición inicial (𝑥0), velocidad inicial (𝑣0) y aceleración (𝑎) en dos instantes de\n",
        "tiempo diferentes. La posición en un instante de tiempo está dada por:\n",
        "\n",
        "\n",
        "$x$ = $x0$ + $v0$ + 1/2 * $a$ * $t$ ** 2\n"
      ],
      "metadata": {
        "id": "V_Tm6BSp-Tok"
      }
    },
    {
      "cell_type": "markdown",
      "source": [
        "# $Tiempo $ 1"
      ],
      "metadata": {
        "id": "H4qFWvneQFBp"
      }
    },
    {
      "cell_type": "code",
      "source": [
        "x0 = 9\n",
        "v0 = 15\n",
        "a = 22\n",
        "t = 15\n",
        "x = x0 + v0 + 1/2 * a * t ** 2\n",
        "float(input(\"ingrese el valor de la posicion inicial: \"))\n",
        "float(input(\"ingrese el valor de la velocidad inicial:\"))\n",
        "float(input(\"ingrese el valor de la aceleracion:\"))\n",
        "float(input(\"ingrese el valor del tiempo:\"))\n",
        "print(\"la posicion de la particula con posicion inicial\", (str(x0)), \"velocidad inicial\", (str(v0)), \"aceleracion\", (str(a)), \"tiempo\", (str(t)),\"es\",str(x))\n"
      ],
      "metadata": {
        "colab": {
          "base_uri": "https://localhost:8080/"
        },
        "id": "Cy1EIqxzV2m0",
        "outputId": "fe060d8f-9726-401f-a5da-e088d21fe4f5"
      },
      "execution_count": 19,
      "outputs": [
        {
          "output_type": "stream",
          "name": "stdout",
          "text": [
            "ingrese el valor de la posicion inicial: 9\n",
            "ingrese el valor de la velocidad inicial:15\n",
            "ingrese el valor de la aceleracion:22\n",
            "ingrese el valor del tiempo:15\n",
            "la posicion de la particula con posicion inicial 9 velocidad inicial 15 aceleracion 22 tiempo 15 es 2499.0\n"
          ]
        }
      ]
    },
    {
      "cell_type": "markdown",
      "source": [
        "# $Tiempo$ 2"
      ],
      "metadata": {
        "id": "BZcwTPpOWXLY"
      }
    },
    {
      "cell_type": "code",
      "source": [
        "x0 = 9\n",
        "v0 = 15\n",
        "a = 22\n",
        "t = 17\n",
        "x = x0 + v0 + 1/2 * a * t ** 2\n",
        "float(input(\"ingrese el valor de la posicion inicial: \"))\n",
        "float(input(\"ingrese el valor de la velocidad inicial:\"))\n",
        "float(input(\"ingrese el valor de la aceleracion:\"))\n",
        "float(input(\"ingrese el valor del tiempo:\"))\n",
        "print(\"la posicion de la particula con posicion inicial\", (str(x0)), \"velocidad inicial\", (str(v0)), \"aceleracion\", (str(a)), \"tiempo\", (str(t)),\"es\",str(x))"
      ],
      "metadata": {
        "colab": {
          "base_uri": "https://localhost:8080/"
        },
        "id": "ziJfKEMVWe5I",
        "outputId": "980f6cf0-93c4-43a1-a451-06a6f0055f38"
      },
      "execution_count": 21,
      "outputs": [
        {
          "output_type": "stream",
          "name": "stdout",
          "text": [
            "ingrese el valor de la posicion inicial: 9\n",
            "ingrese el valor de la velocidad inicial:15\n",
            "ingrese el valor de la aceleracion:22\n",
            "ingrese el valor del tiempo:17\n",
            "la posicion de la particula con posicion inicial 9 velocidad inicial 15 aceleracion 22 tiempo 17 es 3203.0\n"
          ]
        }
      ]
    },
    {
      "cell_type": "markdown",
      "source": [
        "# Problema 2:\n",
        "\n",
        "Calcular y mostrar la distancia entre dos puntos $p$1 y $p$2 ubicados en las coordenadas (𝑥1, 𝑦1) y\n",
        "(𝑥2, 𝑦2). La distancia euclidiana se calcula con la ecuación:\n",
        "\n",
        "𝑑 = √(𝑥2 − 𝑥1)**2 +  (𝑦2 − 𝑦1) **2\n",
        "\n",
        "\n",
        "\n",
        "\n",
        "\n"
      ],
      "metadata": {
        "id": "_RMYrJONBvzU"
      }
    },
    {
      "cell_type": "code",
      "source": [
        "import math\n",
        "x1 = float(input(\"Ingrese la coordenada x1: \"))\n",
        "y1 = float(input(\"Ingrese la coordenada y1: \"))\n",
        "x2 = float(input(\"Ingrese la coordenada x2: \"))\n",
        "y2 = float(input(\"Ingrese la coordenada y2: \"))\n",
        "\n",
        "distance = math.sqrt((x2 - x1)**2 + (y2 - y1)**2)\n",
        "print(\"La distancia entre los dos puntos es:\",distance)"
      ],
      "metadata": {
        "colab": {
          "base_uri": "https://localhost:8080/"
        },
        "id": "eKswF3xgMhYG",
        "outputId": "c9ff4574-2496-4813-c698-740e0fe67378"
      },
      "execution_count": 31,
      "outputs": [
        {
          "output_type": "stream",
          "name": "stdout",
          "text": [
            "Ingrese la coordenada x1: 8.9\n",
            "Ingrese la coordenada y1: 9.7\n",
            "Ingrese la coordenada x2: 14.5\n",
            "Ingrese la coordenada y2: 12.8\n",
            "La distancia entre los dos puntos es: 6.400781202322104\n"
          ]
        }
      ]
    },
    {
      "cell_type": "markdown",
      "source": [
        "# Problema 3:\n",
        "\n",
        "Calcular y mostrar el valor del volumen de un cilindro cuyo radio y altura sean ingresados por el\n",
        "usuario. El volumen de un cilindro está dado por:\n",
        "\n",
        "V = pi * r**2 * h"
      ],
      "metadata": {
        "id": "3BaPNdKTajfP"
      }
    },
    {
      "cell_type": "code",
      "source": [
        "radio = float(input(\"Ingrese el valor del radio  \"))\n",
        "altura = float(input(\"Ingrese el valor de la altura \"))\n",
        "\n",
        "# Definir el valor de pi\n",
        "pi = 3.141592\n",
        "\n",
        "# Calcular el volumen del cilindro usando la fórmula V = pi * r^2 * h\n",
        "volumen = pi * (radio ** 2) * altura\n",
        "\n",
        "# Mostrar el resultado\n",
        "print(f\"El volumen del cilindro con radio {radio} y altura {altura} es: {volumen}\")"
      ],
      "metadata": {
        "colab": {
          "base_uri": "https://localhost:8080/"
        },
        "id": "xzSbEuNVbLNj",
        "outputId": "40bf6f0b-6652-442c-ca57-ff0248a232fd"
      },
      "execution_count": 32,
      "outputs": [
        {
          "output_type": "stream",
          "name": "stdout",
          "text": [
            "Ingrese el valor del radio  8\n",
            "Ingrese el valor de la altura 6\n",
            "El volumen del cilindro con radio 8.0 y altura 6.0 es: 1206.3713280000002\n"
          ]
        }
      ]
    },
    {
      "cell_type": "markdown",
      "source": [
        "# Problema 4:\n",
        "\n",
        "Calcular y mostrar el resultado de las siguientes operaciones lógicas:\n",
        "1. A > B y B > D\n",
        "2. B <= C o C < D\n",
        "3. A = B y B > C\n",
        "4. A < C o B < C\n",
        "5. A + D < C y B > 5\n",
        "6. D – C >= - A * B\n",
        "7. D * C == 5 o C * A > 9\n",
        "8. A * B + C > - D * 10"
      ],
      "metadata": {
        "id": "ea65T4JWboz5"
      }
    },
    {
      "cell_type": "code",
      "source": [
        "# Definir los valores de A, B, C y D\n",
        "A = 23.5\n",
        "B = 18.7\n",
        "C = 13.7\n",
        "D = 12.9\n",
        "# 1. A > B y B > D\n",
        "resultado1 = A > B and B > D\n",
        "\n",
        "# 2. B <= C o C < D\n",
        "resultado2 = B <= C or C < D\n",
        "\n",
        "# 3. A = B y B > C\n",
        "resultado3 = A == B and B > C\n",
        "\n",
        "# 4. A < C o B < C\n",
        "resultado4 = A < C or B < C\n",
        "\n",
        "# 5. A + D < C y B > 5\n",
        "resultado5 = A + D < C and B > 5.4\n",
        "\n",
        "# 6. D - C >= -A * B\n",
        "resultado6 = D - C >= -A * B\n",
        "\n",
        "# 7. D * C == 5 o C * A > 9\n",
        "resultado7 = D * C == 5 or C * A > 9\n",
        "\n",
        "# 8. A * B + C > -D * 10\n",
        "resultado8 = A * B + C > -D * 10\n",
        "\n",
        "# Mostrar los resultados\n",
        "print(\"Resultado 1:\", resultado1)\n",
        "print(\"Resultado 2:\", resultado2)\n",
        "print(\"Resultado 3:\", resultado3)\n",
        "print(\"Resultado 4:\", resultado4)\n",
        "print(\"Resultado 5:\", resultado5)\n",
        "print(\"Resultado 6:\", resultado6)\n",
        "print(\"Resultado 7:\", resultado7)\n",
        "print(\"Resultado 8:\",resultado8)\n",
        "\n",
        "\n"
      ],
      "metadata": {
        "colab": {
          "base_uri": "https://localhost:8080/"
        },
        "id": "jZaiMA4vcg3h",
        "outputId": "18ec09a7-db35-4513-9234-a9808ba210a6"
      },
      "execution_count": 34,
      "outputs": [
        {
          "output_type": "stream",
          "name": "stdout",
          "text": [
            "Resultado 1: True\n",
            "Resultado 2: False\n",
            "Resultado 3: False\n",
            "Resultado 4: False\n",
            "Resultado 5: False\n",
            "Resultado 6: True\n",
            "Resultado 7: True\n",
            "Resultado 8: True\n"
          ]
        }
      ]
    }
  ]
}